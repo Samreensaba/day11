{
 "cells": [
  {
   "cell_type": "code",
   "execution_count": 2,
   "id": "1c8be9ca-c693-4f65-a908-fdf51f8ac4b9",
   "metadata": {
    "scrolled": true
   },
   "outputs": [
    {
     "name": "stdout",
     "output_type": "stream",
     "text": [
      "SECONDS IN A YEAR\n",
      "\n"
     ]
    },
    {
     "name": "stdin",
     "output_type": "stream",
     "text": [
      "Do you want to know how many seconds are in a year? Y/N:  Y\n",
      "Is it a leap year? Y/N:  N\n"
     ]
    },
    {
     "name": "stdout",
     "output_type": "stream",
     "text": [
      "There are  31536000  seconds in a year.\n"
     ]
    }
   ],
   "source": [
    "print(\"SECONDS IN A YEAR\")\n",
    "print()\n",
    "countSeconds = input(\"Do you want to know how many seconds are in a year? Y/N: \")\n",
    "\n",
    "seconds_hour = 60*60\n",
    "seconds_day = seconds_hour * 24\n",
    "seconds_year = seconds_day * 365\n",
    "seconds_leap_year = seconds_day * 366\n",
    "\n",
    "if countSeconds == \"y\" or countSeconds == \"Y\":\n",
    "  leapYear = input(\"Is it a leap year? Y/N: \")\n",
    "  if leapYear == \"n\" or leapYear == \"N\":\n",
    "    print(\"There are \", seconds_year, \" seconds in a year.\")\n",
    "  else:\n",
    "    print(\"There are \", seconds_leap_year, \" seconds in a leap year.\")\n",
    "else:\n",
    "  print(\"Okay, goodbye.\")"
   ]
  },
  {
   "cell_type": "code",
   "execution_count": null,
   "id": "2ade5fa4-5244-46d6-8927-62ff3e42b551",
   "metadata": {},
   "outputs": [],
   "source": []
  }
 ],
 "metadata": {
  "kernelspec": {
   "display_name": "Python 3 (ipykernel)",
   "language": "python",
   "name": "python3"
  },
  "language_info": {
   "codemirror_mode": {
    "name": "ipython",
    "version": 3
   },
   "file_extension": ".py",
   "mimetype": "text/x-python",
   "name": "python",
   "nbconvert_exporter": "python",
   "pygments_lexer": "ipython3",
   "version": "3.12.4"
  }
 },
 "nbformat": 4,
 "nbformat_minor": 5
}
